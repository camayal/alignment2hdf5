{
 "cells": [
  {
   "cell_type": "markdown",
   "metadata": {},
   "source": [
    "Questions:\n",
    "    \n",
    "In the dataset phy, what is 0?\n"
   ]
  },
  {
   "cell_type": "code",
   "execution_count": 698,
   "metadata": {},
   "outputs": [],
   "source": [
    "import h5py"
   ]
  },
  {
   "cell_type": "markdown",
   "metadata": {},
   "source": [
    "## Check what is inside a regular hdf5 from ipyrad"
   ]
  },
  {
   "cell_type": "code",
   "execution_count": 680,
   "metadata": {},
   "outputs": [],
   "source": [
    "SEQS = \"/home/deren/Documents/Viburnum-Oreinotinus/assembly_hic_feb/full_dataset_outfiles/full_dataset.seqs.hdf5\""
   ]
  },
  {
   "cell_type": "code",
   "execution_count": 681,
   "metadata": {},
   "outputs": [],
   "source": [
    "f = h5py.File(SEQS,'r')"
   ]
  },
  {
   "cell_type": "code",
   "execution_count": 682,
   "metadata": {},
   "outputs": [
    {
     "data": {
      "text/plain": [
       "'/'"
      ]
     },
     "execution_count": 682,
     "metadata": {},
     "output_type": "execute_result"
    }
   ],
   "source": [
    "# apparently this hdf5 does not contain groups. \n",
    "f.name"
   ]
  },
  {
   "cell_type": "code",
   "execution_count": 683,
   "metadata": {},
   "outputs": [
    {
     "data": {
      "text/plain": [
       "<KeysViewHDF5 ['phy', 'phymap', 'scaffold_lengths', 'scaffold_names']>"
      ]
     },
     "execution_count": 683,
     "metadata": {},
     "output_type": "execute_result"
    }
   ],
   "source": [
    "# a hdf5 file contains 4 datasets, only phymap contains multiple attributes\n",
    "f.keys()"
   ]
  },
  {
   "cell_type": "code",
   "execution_count": 684,
   "metadata": {},
   "outputs": [
    {
     "data": {
      "text/plain": [
       "<HDF5 dataset \"scaffold_lengths\": shape (63580,), type \"<i8\">"
      ]
     },
     "execution_count": 684,
     "metadata": {},
     "output_type": "execute_result"
    }
   ],
   "source": [
    "f[\"scaffold_lengths\"]"
   ]
  },
  {
   "cell_type": "code",
   "execution_count": 685,
   "metadata": {},
   "outputs": [
    {
     "data": {
      "text/plain": [
       "5336"
      ]
     },
     "execution_count": 685,
     "metadata": {},
     "output_type": "execute_result"
    }
   ],
   "source": [
    "f[\"scaffold_lengths\"][0]"
   ]
  },
  {
   "cell_type": "code",
   "execution_count": 686,
   "metadata": {},
   "outputs": [
    {
     "data": {
      "text/plain": [
       "array([ 5336,  2163,  2335, ..., 32689, 83367, 39260])"
      ]
     },
     "execution_count": 686,
     "metadata": {},
     "output_type": "execute_result"
    }
   ],
   "source": [
    "f[\"scaffold_lengths\"][:]"
   ]
  },
  {
   "cell_type": "code",
   "execution_count": 687,
   "metadata": {},
   "outputs": [
    {
     "data": {
      "text/plain": [
       "b'Scaffold_1;HRSCAF=1'"
      ]
     },
     "execution_count": 687,
     "metadata": {},
     "output_type": "execute_result"
    }
   ],
   "source": [
    "f[\"scaffold_names\"][0]"
   ]
  },
  {
   "cell_type": "code",
   "execution_count": 688,
   "metadata": {},
   "outputs": [
    {
     "data": {
      "text/plain": [
       "array([71, 65, 65, ...,  0,  0,  0], dtype=uint8)"
      ]
     },
     "execution_count": 688,
     "metadata": {},
     "output_type": "execute_result"
    }
   ],
   "source": [
    "# phy contains the actual secuences coded in ascii conversion, where 0 is ????\n",
    "f[\"phy\"][0] "
   ]
  },
  {
   "cell_type": "code",
   "execution_count": 22,
   "metadata": {},
   "outputs": [
    {
     "data": {
      "text/plain": [
       "array([71, 65, 65, ...,  0,  0,  0], dtype=uint8)"
      ]
     },
     "execution_count": 22,
     "metadata": {},
     "output_type": "execute_result"
    }
   ],
   "source": [
    "\n",
    "f[\"phy\"]"
   ]
  },
  {
   "cell_type": "code",
   "execution_count": 695,
   "metadata": {},
   "outputs": [
    {
     "data": {
      "text/plain": [
       "0"
      ]
     },
     "execution_count": 695,
     "metadata": {},
     "output_type": "execute_result"
    }
   ],
   "source": [
    "f[\"phy\"][-1][-1]"
   ]
  },
  {
   "cell_type": "code",
   "execution_count": null,
   "metadata": {},
   "outputs": [],
   "source": [
    "for i in f[\"phy\"][0][0:10]:\n",
    "    print(chr(i),i)"
   ]
  },
  {
   "cell_type": "code",
   "execution_count": null,
   "metadata": {},
   "outputs": [],
   "source": [
    "# phy does not have any attributes\n",
    "f[\"phy\"].attrs.keys()"
   ]
  },
  {
   "cell_type": "code",
   "execution_count": 88,
   "metadata": {},
   "outputs": [
    {
     "data": {
      "text/plain": [
       "array([   4,    0,  161,  849, 1010], dtype=uint64)"
      ]
     },
     "execution_count": 88,
     "metadata": {},
     "output_type": "execute_result"
    }
   ],
   "source": [
    "# phymap is ?, apparently it contains mixed information, the basic dataset not sure what it is.\n",
    "#But it has other attibutes like columns (similar to vcf), just the name, phynames that are the names for the samples, \n",
    "#I expect in the same order than phy. And reference, a path where the reference is.\n",
    "f[\"phymap\"][0]"
   ]
  },
  {
   "cell_type": "code",
   "execution_count": 87,
   "metadata": {},
   "outputs": [
    {
     "data": {
      "text/plain": [
       "1005045"
      ]
     },
     "execution_count": 87,
     "metadata": {},
     "output_type": "execute_result"
    }
   ],
   "source": [
    "f[\"phymap\"].size"
   ]
  },
  {
   "cell_type": "code",
   "execution_count": 61,
   "metadata": {},
   "outputs": [
    {
     "data": {
      "text/plain": [
       "<KeysViewHDF5 ['columns', 'phynames', 'reference']>"
      ]
     },
     "execution_count": 61,
     "metadata": {},
     "output_type": "execute_result"
    }
   ],
   "source": [
    "f[\"phymap\"].attrs.keys()"
   ]
  },
  {
   "cell_type": "code",
   "execution_count": 62,
   "metadata": {},
   "outputs": [
    {
     "data": {
      "text/plain": [
       "array([b'chroms', b'phy0', b'phy1', b'pos0', b'pos1'], dtype=object)"
      ]
     },
     "execution_count": 62,
     "metadata": {},
     "output_type": "execute_result"
    }
   ],
   "source": [
    "f[\"phymap\"].attrs[\"columns\"]"
   ]
  },
  {
   "cell_type": "code",
   "execution_count": 63,
   "metadata": {},
   "outputs": [
    {
     "data": {
      "text/plain": [
       "array([b'reference', b'_MJD_11_2019', b'_MJD_4_2019', b'_MJD_5_2019',\n",
       "       b'_MJD_6_2019', b'_MJD_7_2019', b'_MJD_8_2019',\n",
       "       b'_MJD_Yashtinin_hybrid_2019', b'__EJE_617', b'__EJE_619',\n",
       "       b'__EJE_629', b'__EJE_630', b'__EJE_631',\n",
       "       b'acutifolium_DRY3_MEX_006', b'acutifolium_Edwards_646',\n",
       "       b'acutifolium_Edwards_647', b'acutifolium_Edwards_648',\n",
       "       b'acutifolium_MEX_005', b'acutifolium_MJD_011_tuton_111816',\n",
       "       b'acutifolium_MJD_012_tuton_111816', b'acutifolium_MJD_60',\n",
       "       b'acutifolium_PWS_3050', b'acutifolium_PWS_3059',\n",
       "       b'alpinum_PWS_3924', b'alpinum_PWS_3933', b'anabaptista_PWS_2156',\n",
       "       b'anabaptista_PWS_2160', b'anabaptista_PWS_2162',\n",
       "       b'anabaptista_PWS_2164', b'anabaptista_PWS_2165',\n",
       "       b'anabaptista_PWS_2173', b'arboretum_PWS_3920',\n",
       "       b'ayavacense_PWS_3884', b'ayavacense_PWS_3889',\n",
       "       b'ayavacense_PWS_3902', b'ayavacense_PWS_3908',\n",
       "       b'ayavacense_PWS_3999', b'ayavacense_PWS_4000',\n",
       "       b'ayavacense_PWS_4001', b'ayavacense_PWS_4002',\n",
       "       b'ayavacense_PWS_4003', b'ayavacense_PWS_4004',\n",
       "       b'ayavacense_PWS_4005', b'ayavacense_PWS_4006', b'blandum_EJE_618',\n",
       "       b'blandum_EJE_621', b'blandum_Edwards_630', b'blandum_PWS_3088',\n",
       "       b'caudatum_MJD_64', b'caudatum_PWS_3211', b'caudatum_PWS_3216',\n",
       "       b'caudatum_PWS_3221', b'caudatum_PWS_3223',\n",
       "       b'caudatum_PWS_3223_M1', b'ciliatum_C1', b'ciliatum_PWS_3220',\n",
       "       b'ciliatum_PWS_3225', b'ciliatum_SH2', b'costaricanum_MJD_85',\n",
       "       b'dentatum_ELS_004', b'dentatum_ELS_015', b'dentatum_ELS_027',\n",
       "       b'dentatum_ELS_052', b'dentatum_ELS_072', b'dentatum_ELS_082',\n",
       "       b'discolor_Edwards_629', b'discolor_Edwards_631',\n",
       "       b'disjunctum_EJE_615', b'disjunctum_MJD_66',\n",
       "       b'divaricatum_PWS_1773', b'elatum_MJD_30', b'elatum_PWS_3196',\n",
       "       b'fuscum-shiny_EJE_602', b'fuscum_EJE_608', b'fuscum_EJE_609',\n",
       "       b'fuscum_Edwards_654', b'fuscum_MJD_007_tuton_111816',\n",
       "       b'fuscum_MJD_013_tuton_111816', b'fuscum_MJD_014_tuton_111816',\n",
       "       b'fuscum_PWS_3054', b'fuscum_PWS_3058', b'fuscum_shiny_EJE_603',\n",
       "       b'fuscum_shiny_EJE_604', b'greenhouse_accession_acut_11_16_1',\n",
       "       b'greenhouse_accession_caud_17', b'greenhouse_accession_hart_1',\n",
       "       b'greenhouse_accession_juc_11_16_1',\n",
       "       b'greenhouse_accession_juc_14', b'greenhouse_accession_laut_7',\n",
       "       b'greenhouse_accession_mic_21',\n",
       "       b'greenhouse_accession_sulc_11_16_1', b'hallii_PWS_1634',\n",
       "       b'hallii_PWS_1830', b'hallii_PWS_2180', b'hallii_PWS_4008',\n",
       "       b'hallii_PWS_4009', b'hallii_PWS_4013', b'hallii_PWS_4014',\n",
       "       b'hallii_PWS_4015', b'hallii_PWS_4019', b'hallii_PWS_4020',\n",
       "       b'hallii_PWS_4021', b'hallii_PWS_4022', b'hallii_PWS_4023',\n",
       "       b'hallii_PWS_4024', b'hallii_PWS_4025', b'hartwegii_EJE_612',\n",
       "       b'hartwegii_EJE_642', b'hartwegii_MJD_81', b'hartwegii_PWS_3108',\n",
       "       b'hartwegii_PWS_3186', b'hartwegii_PWS_3190',\n",
       "       b'hartwegii_PWS_3193', b'hartwegii_PWS_3194',\n",
       "       b'hartwegii_PWS_3195', b'hybrid_MJD_001_tuton_111716',\n",
       "       b'hybrid_MJD_002_tuton_111716', b'hybrid_MJD_003_tuton_111716',\n",
       "       b'hybrid_MJD_005_tuton_111716', b'hybrid_MJD_006_tuton_111716',\n",
       "       b'hybrid_MJD_009_tuton_111816', b'hybrid_MJD_010_tuton_111816',\n",
       "       b'hybrid_PWS_3206', b'hybrid_PWS_3208', b'hybrid_huatla_6',\n",
       "       b'incarum_PWS_4026', b'incarum_PWS_4027', b'incarum_PWS_4028',\n",
       "       b'incarum_PWS_4029', b'incarum_PWS_4030', b'jamesonii_PWS_1636',\n",
       "       b'jamesonii_PWS_1656', b'jucundum_EJE_634', b'jucundum_EJE_636',\n",
       "       b'jucundum_Edwards_616', b'jucundum_Edwards_635',\n",
       "       b'jucundum_Edwards_637', b'jucundum_HUL_H_31.1',\n",
       "       b'jucundum_MJD_69', b'jucundum_MKM_11', b'jucundum_MKM_12',\n",
       "       b'jucundum_MKM_13', b'jucundum_MKM_14', b'jucundum_MKM_15',\n",
       "       b'jucundum_MKM_16', b'jucundum_MKM_17', b'jucundum_MKM_18',\n",
       "       b'jucundum_MKM_19', b'jucundum_MKM_20', b'jucundum_MKM_21',\n",
       "       b'jucundum_PWS_3107', b'jucundum_PWS_3188',\n",
       "       b'lasiophyllum_PWS_2174', b'lasiophyllum_PWS_2175',\n",
       "       b'lautum_EJE_638', b'lautum_MJD_73', b'lautum_MKM_1',\n",
       "       b'lautum_MKM_10', b'lautum_MKM_2', b'lautum_MKM_23',\n",
       "       b'lautum_MKM_24', b'lautum_MKM_25', b'lautum_MKM_26',\n",
       "       b'lautum_MKM_27', b'lautum_MKM_28', b'lautum_MKM_29',\n",
       "       b'lautum_MKM_3', b'lautum_MKM_30', b'lautum_MKM_31',\n",
       "       b'lautum_MKM_6', b'lautum_MKM_7', b'lautum_MKM_8', b'lautum_MKM_9',\n",
       "       b'lautum_PWS_3105', b'lautum_PWS_3106', b'lautum_PWS_3189',\n",
       "       b'lautum_PWS_3191', b'loesnerii_MJD_75',\n",
       "       b'membranaceum_Edwards_643', b'membranaceum_Edwards_644',\n",
       "       b'microcarpum_MJD_10_2019', b'microcarpum_MJD_76',\n",
       "       b'microcarpum_PWS_3202', b'microcarpum_PWS_3210',\n",
       "       b'microcarpum_PWS_3226', b'microcarpum_PWS_3227',\n",
       "       b'microcarpum_V1', b'microcarpum_ZA2', b'microcarpum_ZA4',\n",
       "       b'microphyllum_DE_001', b'microphyllum_DE_002',\n",
       "       b'microphyllum_DE_003', b'microphyllum_Edwards_663',\n",
       "       b'microphyllum_Edwards_664', b'obtusatum_HUAT_4',\n",
       "       b'obtusatum_PWS_3100', b'obtusatum_Tzont', b'pastasanum_PWS_1799',\n",
       "       b'pichinchense_PWS_1621', b'pichinchense_PWS_1669',\n",
       "       b'reticulatum_PWS_1702', b'reticulatum_PWS_1706',\n",
       "       b'reticulatum_PWS_1719', b'reticulatum_PWS_1735',\n",
       "       b'reticulatum_PWS_1737', b'reticulatum_PWS_4010',\n",
       "       b'reticulatum_PWS_4012', b'reticulatum_PWS_4016',\n",
       "       b'seemenii_PWS_3895', b'seemenii_PWS_3900', b'shiny_Edwards_651',\n",
       "       b'shiny_Edwards_652', b'shiny_Edwards_653', b'shiny_Edwards_656',\n",
       "       b'shiny_Edwards_657', b'shiny_Edwards_662',\n",
       "       b'stellato-tomentosum_MJD_83', b'stenocalyx_EJE_606',\n",
       "       b'stenocalyx_EJE_607', b'stenocalyx_PWS_3234',\n",
       "       b'subsessile_PWS_2169', b'subsessile_PWS_2171',\n",
       "       b'subsessile_PWS_2172', b'sulcatum_Edwards_649',\n",
       "       b'sulcatum_Edwards_650', b'sulcatum_Edwards_655',\n",
       "       b'sulcatum_Edwards_658', b'sulcatum_Edwards_659',\n",
       "       b'sulcatum_Edwards_660', b'sulcatum_Edwards_661',\n",
       "       b'sulcatum_MEX_003', b'sulcatum_MEX_004', b'sulcatum_MJD_79',\n",
       "       b'tiliafolium_MJD_9_2019', b'tiliafolium_PWS_3205',\n",
       "       b'tiliafolium_PWS_3209', b'tiliafolium_PWS_3217',\n",
       "       b'tiliafolium_PWS_3222', b'tiliafolium_PWS_3230',\n",
       "       b'tiliafolium_jucundum_2_oaxaca_2017', b'tinoides_PWS_2151',\n",
       "       b'tinoides_PWS_2152', b'tinoides_PWS_2155', b'tinoides_PWS_2157',\n",
       "       b'tinoides_PWS_2158', b'tinoides_PWS_2168', b'tinoides_PWS_2170C',\n",
       "       b'tinoides_PWS_2170D', b'tinoides_PWS_2170E',\n",
       "       b'tinoides_PWS_2170F', b'tinoides_PWS_2170G', b'tinoides_PWS_2176',\n",
       "       b'tinoides_PWS_2177', b'triphyllum_Edwards_2014_04',\n",
       "       b'triphyllum_PWS_1682', b'triphyllum_PWS_1757',\n",
       "       b'triphyllum_PWS_1769', b'triphyllum_PWS_1783',\n",
       "       b'triphyllum_PWS_2179', b'triphyllum_PWS_4007',\n",
       "       b'triphyllum_PWS_4011', b'triphyllum_PWS_4017',\n",
       "       b'triphyllum_PWS_4018', b'triphyllum_WC_285', b'triphyllum_WC_286',\n",
       "       b'triphyllum_WC_287B', b'triphyllum_WC_287C',\n",
       "       b'triphyllum_WC_287D', b'triphyllum_WC_288C',\n",
       "       b'triphyllum_WC_288E', b'triphyllum_WC_288b', b'triphyllum_WC_299',\n",
       "       b'villosum_PWS_3918', b'villosum_PWS_3932'], dtype=object)"
      ]
     },
     "execution_count": 63,
     "metadata": {},
     "output_type": "execute_result"
    }
   ],
   "source": [
    "f[\"phymap\"].attrs[\"phynames\"]"
   ]
  },
  {
   "cell_type": "code",
   "execution_count": 64,
   "metadata": {},
   "outputs": [
    {
     "data": {
      "text/plain": [
       "'/home/deren/Documents/jhub-mount/Viburnum-Genome/assembly-3-hic/final_assembly.fa'"
      ]
     },
     "execution_count": 64,
     "metadata": {},
     "output_type": "execute_result"
    }
   ],
   "source": [
    "f[\"phymap\"].attrs[\"reference\"]"
   ]
  },
  {
   "cell_type": "code",
   "execution_count": null,
   "metadata": {},
   "outputs": [],
   "source": []
  },
  {
   "cell_type": "code",
   "execution_count": null,
   "metadata": {},
   "outputs": [],
   "source": []
  },
  {
   "cell_type": "code",
   "execution_count": null,
   "metadata": {},
   "outputs": [],
   "source": []
  },
  {
   "cell_type": "markdown",
   "metadata": {},
   "source": [
    "## Check what is inside a simulated data (no reference at all)"
   ]
  },
  {
   "cell_type": "code",
   "execution_count": 771,
   "metadata": {},
   "outputs": [],
   "source": [
    "SEQS = \"/home/carlos/superbpp/data/example1.seqs.hdf5\""
   ]
  },
  {
   "cell_type": "code",
   "execution_count": 772,
   "metadata": {},
   "outputs": [],
   "source": [
    "f = h5py.File(SEQS,'r')"
   ]
  },
  {
   "cell_type": "code",
   "execution_count": 260,
   "metadata": {},
   "outputs": [
    {
     "data": {
      "text/plain": [
       "'/'"
      ]
     },
     "execution_count": 260,
     "metadata": {},
     "output_type": "execute_result"
    }
   ],
   "source": [
    "# apparently this hdf5 does not contain groups. \n",
    "f.name"
   ]
  },
  {
   "cell_type": "code",
   "execution_count": 261,
   "metadata": {},
   "outputs": [
    {
     "data": {
      "text/plain": [
       "<KeysViewHDF5 ['phy', 'phymap', 'scaffold_lengths', 'scaffold_names']>"
      ]
     },
     "execution_count": 261,
     "metadata": {},
     "output_type": "execute_result"
    }
   ],
   "source": [
    "# a hdf5 file contains 4 datasets, only phymap contains multiple attributes\n",
    "f.keys()"
   ]
  },
  {
   "cell_type": "code",
   "execution_count": 262,
   "metadata": {},
   "outputs": [
    {
     "data": {
      "text/plain": [
       "<HDF5 dataset \"scaffold_lengths\": shape (500,), type \"<i8\">"
      ]
     },
     "execution_count": 262,
     "metadata": {},
     "output_type": "execute_result"
    }
   ],
   "source": [
    "f[\"scaffold_lengths\"]"
   ]
  },
  {
   "cell_type": "code",
   "execution_count": 263,
   "metadata": {},
   "outputs": [
    {
     "data": {
      "text/plain": [
       "1000"
      ]
     },
     "execution_count": 263,
     "metadata": {},
     "output_type": "execute_result"
    }
   ],
   "source": [
    "f[\"scaffold_lengths\"][0]"
   ]
  },
  {
   "cell_type": "code",
   "execution_count": 264,
   "metadata": {},
   "outputs": [
    {
     "data": {
      "text/plain": [
       "array([1000, 1000, 1000, 1000, 1000, 1000, 1000, 1000, 1000, 1000, 1000,\n",
       "       1000, 1000, 1000, 1000, 1000, 1000, 1000, 1000, 1000, 1000, 1000,\n",
       "       1000, 1000, 1000, 1000, 1000, 1000, 1000, 1000, 1000, 1000, 1000,\n",
       "       1000, 1000, 1000, 1000, 1000, 1000, 1000, 1000, 1000, 1000, 1000,\n",
       "       1000, 1000, 1000, 1000, 1000, 1000, 1000, 1000, 1000, 1000, 1000,\n",
       "       1000, 1000, 1000, 1000, 1000, 1000, 1000, 1000, 1000, 1000, 1000,\n",
       "       1000, 1000, 1000, 1000, 1000, 1000, 1000, 1000, 1000, 1000, 1000,\n",
       "       1000, 1000, 1000, 1000, 1000, 1000, 1000, 1000, 1000, 1000, 1000,\n",
       "       1000, 1000, 1000, 1000, 1000, 1000, 1000, 1000, 1000, 1000, 1000,\n",
       "       1000, 1000, 1000, 1000, 1000, 1000, 1000, 1000, 1000, 1000, 1000,\n",
       "       1000, 1000, 1000, 1000, 1000, 1000, 1000, 1000, 1000, 1000, 1000,\n",
       "       1000, 1000, 1000, 1000, 1000, 1000, 1000, 1000, 1000, 1000, 1000,\n",
       "       1000, 1000, 1000, 1000, 1000, 1000, 1000, 1000, 1000, 1000, 1000,\n",
       "       1000, 1000, 1000, 1000, 1000, 1000, 1000, 1000, 1000, 1000, 1000,\n",
       "       1000, 1000, 1000, 1000, 1000, 1000, 1000, 1000, 1000, 1000, 1000,\n",
       "       1000, 1000, 1000, 1000, 1000, 1000, 1000, 1000, 1000, 1000, 1000,\n",
       "       1000, 1000, 1000, 1000, 1000, 1000, 1000, 1000, 1000, 1000, 1000,\n",
       "       1000, 1000, 1000, 1000, 1000, 1000, 1000, 1000, 1000, 1000, 1000,\n",
       "       1000, 1000, 1000, 1000, 1000, 1000, 1000, 1000, 1000, 1000, 1000,\n",
       "       1000, 1000, 1000, 1000, 1000, 1000, 1000, 1000, 1000, 1000, 1000,\n",
       "       1000, 1000, 1000, 1000, 1000, 1000, 1000, 1000, 1000, 1000, 1000,\n",
       "       1000, 1000, 1000, 1000, 1000, 1000, 1000, 1000, 1000, 1000, 1000,\n",
       "       1000, 1000, 1000, 1000, 1000, 1000, 1000, 1000, 1000, 1000, 1000,\n",
       "       1000, 1000, 1000, 1000, 1000, 1000, 1000, 1000, 1000, 1000, 1000,\n",
       "       1000, 1000, 1000, 1000, 1000, 1000, 1000, 1000, 1000, 1000, 1000,\n",
       "       1000, 1000, 1000, 1000, 1000, 1000, 1000, 1000, 1000, 1000, 1000,\n",
       "       1000, 1000, 1000, 1000, 1000, 1000, 1000, 1000, 1000, 1000, 1000,\n",
       "       1000, 1000, 1000, 1000, 1000, 1000, 1000, 1000, 1000, 1000, 1000,\n",
       "       1000, 1000, 1000, 1000, 1000, 1000, 1000, 1000, 1000, 1000, 1000,\n",
       "       1000, 1000, 1000, 1000, 1000, 1000, 1000, 1000, 1000, 1000, 1000,\n",
       "       1000, 1000, 1000, 1000, 1000, 1000, 1000, 1000, 1000, 1000, 1000,\n",
       "       1000, 1000, 1000, 1000, 1000, 1000, 1000, 1000, 1000, 1000, 1000,\n",
       "       1000, 1000, 1000, 1000, 1000, 1000, 1000, 1000, 1000, 1000, 1000,\n",
       "       1000, 1000, 1000, 1000, 1000, 1000, 1000, 1000, 1000, 1000, 1000,\n",
       "       1000, 1000, 1000, 1000, 1000, 1000, 1000, 1000, 1000, 1000, 1000,\n",
       "       1000, 1000, 1000, 1000, 1000, 1000, 1000, 1000, 1000, 1000, 1000,\n",
       "       1000, 1000, 1000, 1000, 1000, 1000, 1000, 1000, 1000, 1000, 1000,\n",
       "       1000, 1000, 1000, 1000, 1000, 1000, 1000, 1000, 1000, 1000, 1000,\n",
       "       1000, 1000, 1000, 1000, 1000, 1000, 1000, 1000, 1000, 1000, 1000,\n",
       "       1000, 1000, 1000, 1000, 1000, 1000, 1000, 1000, 1000, 1000, 1000,\n",
       "       1000, 1000, 1000, 1000, 1000, 1000, 1000, 1000, 1000, 1000, 1000,\n",
       "       1000, 1000, 1000, 1000, 1000, 1000, 1000, 1000, 1000, 1000, 1000,\n",
       "       1000, 1000, 1000, 1000, 1000, 1000, 1000, 1000, 1000, 1000, 1000,\n",
       "       1000, 1000, 1000, 1000, 1000, 1000, 1000, 1000, 1000, 1000, 1000,\n",
       "       1000, 1000, 1000, 1000, 1000, 1000, 1000, 1000, 1000, 1000, 1000,\n",
       "       1000, 1000, 1000, 1000, 1000])"
      ]
     },
     "execution_count": 264,
     "metadata": {},
     "output_type": "execute_result"
    }
   ],
   "source": [
    "f[\"scaffold_lengths\"][:]"
   ]
  },
  {
   "cell_type": "code",
   "execution_count": 265,
   "metadata": {},
   "outputs": [
    {
     "data": {
      "text/plain": [
       "array([b'loc-1', b'loc-2', b'loc-3', b'loc-4', b'loc-5', b'loc-6',\n",
       "       b'loc-7', b'loc-8', b'loc-9', b'loc-10', b'loc-11', b'loc-12',\n",
       "       b'loc-13', b'loc-14', b'loc-15', b'loc-16', b'loc-17', b'loc-18',\n",
       "       b'loc-19', b'loc-20', b'loc-21', b'loc-22', b'loc-23', b'loc-24',\n",
       "       b'loc-25', b'loc-26', b'loc-27', b'loc-28', b'loc-29', b'loc-30',\n",
       "       b'loc-31', b'loc-32', b'loc-33', b'loc-34', b'loc-35', b'loc-36',\n",
       "       b'loc-37', b'loc-38', b'loc-39', b'loc-40', b'loc-41', b'loc-42',\n",
       "       b'loc-43', b'loc-44', b'loc-45', b'loc-46', b'loc-47', b'loc-48',\n",
       "       b'loc-49', b'loc-50', b'loc-51', b'loc-52', b'loc-53', b'loc-54',\n",
       "       b'loc-55', b'loc-56', b'loc-57', b'loc-58', b'loc-59', b'loc-60',\n",
       "       b'loc-61', b'loc-62', b'loc-63', b'loc-64', b'loc-65', b'loc-66',\n",
       "       b'loc-67', b'loc-68', b'loc-69', b'loc-70', b'loc-71', b'loc-72',\n",
       "       b'loc-73', b'loc-74', b'loc-75', b'loc-76', b'loc-77', b'loc-78',\n",
       "       b'loc-79', b'loc-80', b'loc-81', b'loc-82', b'loc-83', b'loc-84',\n",
       "       b'loc-85', b'loc-86', b'loc-87', b'loc-88', b'loc-89', b'loc-90',\n",
       "       b'loc-91', b'loc-92', b'loc-93', b'loc-94', b'loc-95', b'loc-96',\n",
       "       b'loc-97', b'loc-98', b'loc-99', b'loc-100', b'loc-101',\n",
       "       b'loc-102', b'loc-103', b'loc-104', b'loc-105', b'loc-106',\n",
       "       b'loc-107', b'loc-108', b'loc-109', b'loc-110', b'loc-111',\n",
       "       b'loc-112', b'loc-113', b'loc-114', b'loc-115', b'loc-116',\n",
       "       b'loc-117', b'loc-118', b'loc-119', b'loc-120', b'loc-121',\n",
       "       b'loc-122', b'loc-123', b'loc-124', b'loc-125', b'loc-126',\n",
       "       b'loc-127', b'loc-128', b'loc-129', b'loc-130', b'loc-131',\n",
       "       b'loc-132', b'loc-133', b'loc-134', b'loc-135', b'loc-136',\n",
       "       b'loc-137', b'loc-138', b'loc-139', b'loc-140', b'loc-141',\n",
       "       b'loc-142', b'loc-143', b'loc-144', b'loc-145', b'loc-146',\n",
       "       b'loc-147', b'loc-148', b'loc-149', b'loc-150', b'loc-151',\n",
       "       b'loc-152', b'loc-153', b'loc-154', b'loc-155', b'loc-156',\n",
       "       b'loc-157', b'loc-158', b'loc-159', b'loc-160', b'loc-161',\n",
       "       b'loc-162', b'loc-163', b'loc-164', b'loc-165', b'loc-166',\n",
       "       b'loc-167', b'loc-168', b'loc-169', b'loc-170', b'loc-171',\n",
       "       b'loc-172', b'loc-173', b'loc-174', b'loc-175', b'loc-176',\n",
       "       b'loc-177', b'loc-178', b'loc-179', b'loc-180', b'loc-181',\n",
       "       b'loc-182', b'loc-183', b'loc-184', b'loc-185', b'loc-186',\n",
       "       b'loc-187', b'loc-188', b'loc-189', b'loc-190', b'loc-191',\n",
       "       b'loc-192', b'loc-193', b'loc-194', b'loc-195', b'loc-196',\n",
       "       b'loc-197', b'loc-198', b'loc-199', b'loc-200', b'loc-201',\n",
       "       b'loc-202', b'loc-203', b'loc-204', b'loc-205', b'loc-206',\n",
       "       b'loc-207', b'loc-208', b'loc-209', b'loc-210', b'loc-211',\n",
       "       b'loc-212', b'loc-213', b'loc-214', b'loc-215', b'loc-216',\n",
       "       b'loc-217', b'loc-218', b'loc-219', b'loc-220', b'loc-221',\n",
       "       b'loc-222', b'loc-223', b'loc-224', b'loc-225', b'loc-226',\n",
       "       b'loc-227', b'loc-228', b'loc-229', b'loc-230', b'loc-231',\n",
       "       b'loc-232', b'loc-233', b'loc-234', b'loc-235', b'loc-236',\n",
       "       b'loc-237', b'loc-238', b'loc-239', b'loc-240', b'loc-241',\n",
       "       b'loc-242', b'loc-243', b'loc-244', b'loc-245', b'loc-246',\n",
       "       b'loc-247', b'loc-248', b'loc-249', b'loc-250', b'loc-251',\n",
       "       b'loc-252', b'loc-253', b'loc-254', b'loc-255', b'loc-256',\n",
       "       b'loc-257', b'loc-258', b'loc-259', b'loc-260', b'loc-261',\n",
       "       b'loc-262', b'loc-263', b'loc-264', b'loc-265', b'loc-266',\n",
       "       b'loc-267', b'loc-268', b'loc-269', b'loc-270', b'loc-271',\n",
       "       b'loc-272', b'loc-273', b'loc-274', b'loc-275', b'loc-276',\n",
       "       b'loc-277', b'loc-278', b'loc-279', b'loc-280', b'loc-281',\n",
       "       b'loc-282', b'loc-283', b'loc-284', b'loc-285', b'loc-286',\n",
       "       b'loc-287', b'loc-288', b'loc-289', b'loc-290', b'loc-291',\n",
       "       b'loc-292', b'loc-293', b'loc-294', b'loc-295', b'loc-296',\n",
       "       b'loc-297', b'loc-298', b'loc-299', b'loc-300', b'loc-301',\n",
       "       b'loc-302', b'loc-303', b'loc-304', b'loc-305', b'loc-306',\n",
       "       b'loc-307', b'loc-308', b'loc-309', b'loc-310', b'loc-311',\n",
       "       b'loc-312', b'loc-313', b'loc-314', b'loc-315', b'loc-316',\n",
       "       b'loc-317', b'loc-318', b'loc-319', b'loc-320', b'loc-321',\n",
       "       b'loc-322', b'loc-323', b'loc-324', b'loc-325', b'loc-326',\n",
       "       b'loc-327', b'loc-328', b'loc-329', b'loc-330', b'loc-331',\n",
       "       b'loc-332', b'loc-333', b'loc-334', b'loc-335', b'loc-336',\n",
       "       b'loc-337', b'loc-338', b'loc-339', b'loc-340', b'loc-341',\n",
       "       b'loc-342', b'loc-343', b'loc-344', b'loc-345', b'loc-346',\n",
       "       b'loc-347', b'loc-348', b'loc-349', b'loc-350', b'loc-351',\n",
       "       b'loc-352', b'loc-353', b'loc-354', b'loc-355', b'loc-356',\n",
       "       b'loc-357', b'loc-358', b'loc-359', b'loc-360', b'loc-361',\n",
       "       b'loc-362', b'loc-363', b'loc-364', b'loc-365', b'loc-366',\n",
       "       b'loc-367', b'loc-368', b'loc-369', b'loc-370', b'loc-371',\n",
       "       b'loc-372', b'loc-373', b'loc-374', b'loc-375', b'loc-376',\n",
       "       b'loc-377', b'loc-378', b'loc-379', b'loc-380', b'loc-381',\n",
       "       b'loc-382', b'loc-383', b'loc-384', b'loc-385', b'loc-386',\n",
       "       b'loc-387', b'loc-388', b'loc-389', b'loc-390', b'loc-391',\n",
       "       b'loc-392', b'loc-393', b'loc-394', b'loc-395', b'loc-396',\n",
       "       b'loc-397', b'loc-398', b'loc-399', b'loc-400', b'loc-401',\n",
       "       b'loc-402', b'loc-403', b'loc-404', b'loc-405', b'loc-406',\n",
       "       b'loc-407', b'loc-408', b'loc-409', b'loc-410', b'loc-411',\n",
       "       b'loc-412', b'loc-413', b'loc-414', b'loc-415', b'loc-416',\n",
       "       b'loc-417', b'loc-418', b'loc-419', b'loc-420', b'loc-421',\n",
       "       b'loc-422', b'loc-423', b'loc-424', b'loc-425', b'loc-426',\n",
       "       b'loc-427', b'loc-428', b'loc-429', b'loc-430', b'loc-431',\n",
       "       b'loc-432', b'loc-433', b'loc-434', b'loc-435', b'loc-436',\n",
       "       b'loc-437', b'loc-438', b'loc-439', b'loc-440', b'loc-441',\n",
       "       b'loc-442', b'loc-443', b'loc-444', b'loc-445', b'loc-446',\n",
       "       b'loc-447', b'loc-448', b'loc-449', b'loc-450', b'loc-451',\n",
       "       b'loc-452', b'loc-453', b'loc-454', b'loc-455', b'loc-456',\n",
       "       b'loc-457', b'loc-458', b'loc-459', b'loc-460', b'loc-461',\n",
       "       b'loc-462', b'loc-463', b'loc-464', b'loc-465', b'loc-466',\n",
       "       b'loc-467', b'loc-468', b'loc-469', b'loc-470', b'loc-471',\n",
       "       b'loc-472', b'loc-473', b'loc-474', b'loc-475', b'loc-476',\n",
       "       b'loc-477', b'loc-478', b'loc-479', b'loc-480', b'loc-481',\n",
       "       b'loc-482', b'loc-483', b'loc-484', b'loc-485', b'loc-486',\n",
       "       b'loc-487', b'loc-488', b'loc-489', b'loc-490', b'loc-491',\n",
       "       b'loc-492', b'loc-493', b'loc-494', b'loc-495', b'loc-496',\n",
       "       b'loc-497', b'loc-498', b'loc-499', b'loc-500'], dtype='|S7')"
      ]
     },
     "execution_count": 265,
     "metadata": {},
     "output_type": "execute_result"
    }
   ],
   "source": [
    "f[\"scaffold_names\"][:]"
   ]
  },
  {
   "cell_type": "code",
   "execution_count": 714,
   "metadata": {},
   "outputs": [
    {
     "data": {
      "text/plain": [
       "array([71, 65, 65, ...,  0,  0,  0], dtype=uint8)"
      ]
     },
     "execution_count": 714,
     "metadata": {},
     "output_type": "execute_result"
    }
   ],
   "source": [
    "f[\"phy\"][0]"
   ]
  },
  {
   "cell_type": "code",
   "execution_count": 699,
   "metadata": {},
   "outputs": [
    {
     "name": "stdout",
     "output_type": "stream",
     "text": [
      "G 71 71\n",
      "A 65 65\n",
      "A 65 65\n",
      "A 65 65\n",
      "G 71 71\n",
      "G 71 71\n",
      "G 71 71\n",
      "G 71 71\n",
      "T 84 84\n",
      "A 65 65\n",
      "T 84 84\n",
      "T 84 84\n",
      "G 71 71\n",
      "A 65 65\n",
      "G 71 71\n",
      "G 71 71\n",
      "C 67 67\n",
      "C 67 67\n",
      "A 65 65\n",
      "A 65 65\n",
      "C 67 67\n",
      "C 67 67\n",
      "C 67 67\n",
      "G 71 71\n",
      "G 71 71\n",
      "A 65 65\n",
      "T 84 84\n",
      "A 65 65\n",
      "A 65 65\n",
      "A 65 65\n",
      "A 65 65\n",
      "T 84 84\n",
      "T 84 84\n",
      "C 67 67\n",
      "A 65 65\n",
      "A 65 65\n",
      "G 71 71\n",
      "C 67 67\n",
      "T 84 84\n",
      "G 71 71\n",
      "T 84 84\n",
      "C 67 67\n",
      "C 67 67\n",
      "T 84 84\n",
      "A 65 65\n",
      "G 71 71\n",
      "G 71 71\n",
      "A 65 65\n",
      "A 65 65\n",
      "T 84 84\n",
      "G 71 71\n",
      "A 65 65\n",
      "A 65 65\n",
      "G 71 71\n",
      "A 65 65\n",
      "C 67 67\n",
      "A 65 65\n",
      "C 67 67\n",
      "C 67 67\n",
      "T 84 84\n",
      "A 65 65\n",
      "C 67 67\n",
      "G 71 71\n",
      "A 65 65\n",
      "A 65 65\n",
      "C 67 67\n",
      "A 65 65\n",
      "C 67 67\n",
      "C 67 67\n",
      "A 65 65\n",
      "A 65 65\n",
      "G 71 71\n",
      "G 71 71\n",
      "A 65 65\n",
      "G 71 71\n",
      "C 67 67\n",
      "T 84 84\n",
      "G 71 71\n",
      "C 67 67\n",
      "A 65 65\n",
      "G 71 71\n",
      "A 65 65\n",
      "G 71 71\n",
      "T 84 84\n",
      "C 67 67\n",
      "T 84 84\n",
      "G 71 71\n",
      "A 65 65\n",
      "C 67 67\n",
      "T 84 84\n",
      "G 71 71\n",
      "G 71 71\n",
      "C 67 67\n",
      "C 67 67\n",
      "G 71 71\n",
      "A 65 65\n",
      "G 71 71\n",
      "T 84 84\n",
      "C 67 67\n",
      "G 71 71\n"
     ]
    }
   ],
   "source": [
    "# phy contains the actual secuences coded in ascii conversion, where 0 is ????\n",
    "for i in f[\"phy\"][0][0:100]:\n",
    "    print(chr(i),i, ord(chr(i)))"
   ]
  },
  {
   "cell_type": "code",
   "execution_count": 267,
   "metadata": {},
   "outputs": [
    {
     "data": {
      "text/plain": [
       "<HDF5 dataset \"phy\": shape (32, 500000), type \"|u1\">"
      ]
     },
     "execution_count": 267,
     "metadata": {},
     "output_type": "execute_result"
    }
   ],
   "source": [
    "f[\"phy\"]"
   ]
  },
  {
   "cell_type": "code",
   "execution_count": 268,
   "metadata": {},
   "outputs": [
    {
     "data": {
      "text/plain": [
       "<KeysViewHDF5 []>"
      ]
     },
     "execution_count": 268,
     "metadata": {},
     "output_type": "execute_result"
    }
   ],
   "source": [
    "# phy does not have any attributes\n",
    "f[\"phy\"].attrs.keys()"
   ]
  },
  {
   "cell_type": "code",
   "execution_count": 269,
   "metadata": {},
   "outputs": [
    {
     "data": {
      "text/plain": [
       "<HDF5 dataset \"phymap\": shape (500, 5), type \"<i8\">"
      ]
     },
     "execution_count": 269,
     "metadata": {},
     "output_type": "execute_result"
    }
   ],
   "source": [
    "# phymap is ?, apparently it contains mixed information, the basic dataset not sure what it is.\n",
    "#But it has other attibutes like columns (similar to vcf), just the name, phynames that are the names for the samples, \n",
    "#I expect in the same order than phy. And reference, a path where the reference is.\n",
    "f[\"phymap\"]"
   ]
  },
  {
   "cell_type": "code",
   "execution_count": 270,
   "metadata": {},
   "outputs": [
    {
     "data": {
      "text/plain": [
       "array([   1,    0, 1000,    0, 1000])"
      ]
     },
     "execution_count": 270,
     "metadata": {},
     "output_type": "execute_result"
    }
   ],
   "source": [
    "f[\"phymap\"][0]"
   ]
  },
  {
   "cell_type": "code",
   "execution_count": 271,
   "metadata": {},
   "outputs": [
    {
     "data": {
      "text/plain": [
       "2500"
      ]
     },
     "execution_count": 271,
     "metadata": {},
     "output_type": "execute_result"
    }
   ],
   "source": [
    "f[\"phymap\"].size"
   ]
  },
  {
   "cell_type": "code",
   "execution_count": 272,
   "metadata": {},
   "outputs": [
    {
     "data": {
      "text/plain": [
       "<KeysViewHDF5 ['columns', 'phynames', 'reference']>"
      ]
     },
     "execution_count": 272,
     "metadata": {},
     "output_type": "execute_result"
    }
   ],
   "source": [
    "f[\"phymap\"].attrs.keys()"
   ]
  },
  {
   "cell_type": "code",
   "execution_count": 273,
   "metadata": {},
   "outputs": [
    {
     "data": {
      "text/plain": [
       "array([b'chroms', b'phy0', b'phy1', b'pos0', b'pos1'], dtype='|S6')"
      ]
     },
     "execution_count": 273,
     "metadata": {},
     "output_type": "execute_result"
    }
   ],
   "source": [
    "f[\"phymap\"].attrs[\"columns\"]"
   ]
  },
  {
   "cell_type": "code",
   "execution_count": 107,
   "metadata": {},
   "outputs": [
    {
     "data": {
      "text/plain": [
       "array([b'r0-0', b'r0-1', b'r1-0', b'r1-1', b'r10-0', b'r10-1', b'r11-0',\n",
       "       b'r11-1', b'r12-0', b'r12-1', b'r13-0', b'r13-1', b'r14-0',\n",
       "       b'r14-1', b'r15-0', b'r15-1', b'r2-0', b'r2-1', b'r3-0', b'r3-1',\n",
       "       b'r4-0', b'r4-1', b'r5-0', b'r5-1', b'r6-0', b'r6-1', b'r7-0',\n",
       "       b'r7-1', b'r8-0', b'r8-1', b'r9-0', b'r9-1'], dtype='|S5')"
      ]
     },
     "execution_count": 107,
     "metadata": {},
     "output_type": "execute_result"
    }
   ],
   "source": [
    "f[\"phymap\"].attrs[\"phynames\"]"
   ]
  },
  {
   "cell_type": "code",
   "execution_count": 109,
   "metadata": {},
   "outputs": [
    {
     "data": {
      "text/plain": [
       "'ipcoal-simulation'"
      ]
     },
     "execution_count": 109,
     "metadata": {},
     "output_type": "execute_result"
    }
   ],
   "source": [
    "f[\"phymap\"].attrs[\"reference\"]"
   ]
  },
  {
   "cell_type": "code",
   "execution_count": null,
   "metadata": {},
   "outputs": [],
   "source": []
  },
  {
   "cell_type": "code",
   "execution_count": null,
   "metadata": {},
   "outputs": [],
   "source": []
  },
  {
   "cell_type": "markdown",
   "metadata": {},
   "source": [
    "input must be alignment and squre matrix > a. fasta without Ns delimitation\n",
    "        b. fasta with Ns delimitations\n",
    "    \n",
    "a > ask for number of loci > a2\n",
    "b > ask number of Ns > b2\n",
    "\n",
    "a2 > max length / nloci = loci lenght\n",
    "b2 > split each secuence by the Ns, remove Ns to map properly the loci"
   ]
  },
  {
   "cell_type": "code",
   "execution_count": null,
   "metadata": {},
   "outputs": [],
   "source": [
    "# create h5 file\n",
    "\n",
    "# create attributes for phymap ('columns', 'phynames', 'reference')\n",
    "# fill static info: \n",
    "    # columns:array([b'chroms', b'phy0', b'phy1', b'pos0', b'pos1'], dtype='|S6')\n",
    "    # reference: \"imported-from-fasta\"\n",
    "# fill names in phymap/phynames from each heading in the fasta in order\n",
    "# handle the matrix in the two ways\n",
    "# create four datasets phy', 'phymap', 'scaffold_lengths', 'scaffold_names'\n",
    "#     f['phy'] = None\n",
    "#     f['phymap'] = None\n",
    "#     f['scaffold_lengths'] = None\n",
    "#     f['scaffold_names'] = None"
   ]
  },
  {
   "cell_type": "code",
   "execution_count": 244,
   "metadata": {},
   "outputs": [
    {
     "ename": "SyntaxError",
     "evalue": "unexpected EOF while parsing (<ipython-input-244-75496d0097c3>, line 9)",
     "output_type": "error",
     "traceback": [
      "\u001b[0;36m  File \u001b[0;32m\"<ipython-input-244-75496d0097c3>\"\u001b[0;36m, line \u001b[0;32m9\u001b[0m\n\u001b[0;31m    #     f['scaffold_names'] = None\u001b[0m\n\u001b[0m                                    ^\u001b[0m\n\u001b[0;31mSyntaxError\u001b[0m\u001b[0;31m:\u001b[0m unexpected EOF while parsing\n"
     ]
    }
   ],
   "source": [
    "# import io\n",
    "import h5py\n",
    "\n",
    "# bio = io.BytesIO()\n",
    "with h5py.File(\"test.h5\", 'w') as f:\n",
    "#     f['phy'] = None\n",
    "#     f['phymap'] = None\n",
    "#     f['scaffold_lengths'] = None\n",
    "#     f['scaffold_names'] = None"
   ]
  },
  {
   "cell_type": "code",
   "execution_count": 121,
   "metadata": {},
   "outputs": [],
   "source": [
    "f = h5py.File(\"test.h5\",'r')"
   ]
  },
  {
   "cell_type": "code",
   "execution_count": 125,
   "metadata": {},
   "outputs": [
    {
     "data": {
      "text/plain": [
       "5"
      ]
     },
     "execution_count": 125,
     "metadata": {},
     "output_type": "execute_result"
    }
   ],
   "source": [
    "f[\"dataset\"][5]"
   ]
  },
  {
   "cell_type": "code",
   "execution_count": 245,
   "metadata": {},
   "outputs": [],
   "source": [
    "f.close()\n"
   ]
  },
  {
   "cell_type": "code",
   "execution_count": null,
   "metadata": {},
   "outputs": [],
   "source": [
    "# get first lenght of first sequence in fasta. It is assumed as a square matrix and ALL samples\n",
    "# must have the same lenght. \n",
    "    # add a checker of this and raise exception if not. Only reading line by line without maintain in memory \n",
    "# if lenght is not dividible, them floor it "
   ]
  },
  {
   "cell_type": "code",
   "execution_count": 483,
   "metadata": {},
   "outputs": [],
   "source": [
    "import math\n",
    "import numpy\n",
    "\n",
    "\n",
    "seqs = [\"g--taa\", \"gcgta-\", \"gNNtaa\"]\n",
    "\n",
    "def test(seqs, nloci):\n",
    "    for idx, sequence in enumerate(seqs):\n",
    "        # Prepare phymap, scaffold_lengths, and scaffold_names with the first sequence only\n",
    "        if idx == 0:\n",
    "            # create empty arrays\n",
    "            phymap = []\n",
    "            scaffold_names = []\n",
    "            scaffold_lengths = []\n",
    "\n",
    "            # get length\n",
    "            length = len(sequence)\n",
    "\n",
    "            if nloci > length:\n",
    "                raise Exception(f\"Impossible to get the number of loci requested ({nloci}), the number is larger than bases in the alignment ({length})\")\n",
    "\n",
    "            length_loci = length / nloci\n",
    "            floor_length_loci = math.floor(length_loci)\n",
    "            \n",
    "            # split each locus one by one\n",
    "            for idx_locus in range(nloci):\n",
    "                start = idx_locus*floor_length_loci\n",
    "                end = start + floor_length_loci\n",
    "                \n",
    "                \n",
    "                # if length is not divisible, include the residual base in the last locus\n",
    "                if idx_locus == range(nloci)[-1] and end < length:\n",
    "                    end += 1\n",
    "\n",
    "                \n",
    "                # fill phymap, scaffold_lengths, and scaffold_names \n",
    "#                 print(f\"seq:{sequence[start:end]}, start: {start}, end: {end}\")\n",
    "\n",
    "    #             print(\"proto-phymap: \",[idx_locus + 1, start, end, 0, end])\n",
    "                phymap.append([idx_locus + 1, start, end, 0, end])\n",
    "    #             print(f\"loc-{idx_locus + 1}\")\n",
    "                scaffold_names.append(f\"loc-{idx_locus + 1}\")\n",
    "    #             print(end-start)\n",
    "                scaffold_lengths.append(end-start)\n",
    "\n",
    "            #add them to the hdf5 file\n",
    "\n",
    "        # prepare phy, for now add sequence by sequence to the file. \n",
    "        phy = [ord(base) for base in sequence.upper()]\n",
    "        print(phy)\n",
    "\n",
    "\n",
    "    return phymap, scaffold_names, scaffold_lengths"
   ]
  },
  {
   "cell_type": "code",
   "execution_count": 484,
   "metadata": {},
   "outputs": [
    {
     "name": "stdout",
     "output_type": "stream",
     "text": [
      "[71, 45, 45, 84, 65, 65]\n",
      "[71, 67, 71, 84, 65, 45]\n",
      "[71, 78, 78, 84, 65, 65]\n"
     ]
    },
    {
     "data": {
      "text/plain": [
       "([[1, 0, 1, 0, 1],\n",
       "  [2, 1, 2, 0, 2],\n",
       "  [3, 2, 3, 0, 3],\n",
       "  [4, 3, 4, 0, 4],\n",
       "  [5, 4, 5, 0, 5],\n",
       "  [6, 5, 6, 0, 6]],\n",
       " ['loc-1', 'loc-2', 'loc-3', 'loc-4', 'loc-5', 'loc-6'],\n",
       " [1, 1, 1, 1, 1, 1])"
      ]
     },
     "execution_count": 484,
     "metadata": {},
     "output_type": "execute_result"
    }
   ],
   "source": [
    "test(seqs, 6)"
   ]
  },
  {
   "cell_type": "code",
   "execution_count": 474,
   "metadata": {},
   "outputs": [
    {
     "data": {
      "text/plain": [
       "([[1, 0, 7, 0, 7]], ['loc-1'], [7])"
      ]
     },
     "execution_count": 474,
     "metadata": {},
     "output_type": "execute_result"
    }
   ],
   "source": [
    "test(seqs, 1)"
   ]
  },
  {
   "cell_type": "code",
   "execution_count": null,
   "metadata": {},
   "outputs": [],
   "source": []
  },
  {
   "cell_type": "code",
   "execution_count": 1,
   "metadata": {},
   "outputs": [],
   "source": [
    "import fasta2hdf5"
   ]
  },
  {
   "cell_type": "code",
   "execution_count": 2,
   "metadata": {},
   "outputs": [],
   "source": [
    "fasta2hdf5.convert(\"simple.fasta\", 7)"
   ]
  },
  {
   "cell_type": "code",
   "execution_count": 2,
   "metadata": {},
   "outputs": [],
   "source": [
    "import h5py"
   ]
  },
  {
   "cell_type": "code",
   "execution_count": 4,
   "metadata": {},
   "outputs": [],
   "source": [
    "w = h5py.File(\"../test/simple.hdf5\",'r')"
   ]
  },
  {
   "cell_type": "code",
   "execution_count": 5,
   "metadata": {},
   "outputs": [
    {
     "data": {
      "text/plain": [
       "<KeysViewHDF5 ['columns', 'phynames', 'reference']>"
      ]
     },
     "execution_count": 5,
     "metadata": {},
     "output_type": "execute_result"
    }
   ],
   "source": [
    "w[\"phymap\"].attrs.keys()"
   ]
  },
  {
   "cell_type": "code",
   "execution_count": 6,
   "metadata": {},
   "outputs": [
    {
     "data": {
      "text/plain": [
       "'imported-from-fasta'"
      ]
     },
     "execution_count": 6,
     "metadata": {},
     "output_type": "execute_result"
    }
   ],
   "source": [
    "w[\"phymap\"].attrs[\"reference\"]"
   ]
  },
  {
   "cell_type": "code",
   "execution_count": 7,
   "metadata": {},
   "outputs": [
    {
     "data": {
      "text/plain": [
       "array([ 1,  0, 14,  0, 14])"
      ]
     },
     "execution_count": 7,
     "metadata": {},
     "output_type": "execute_result"
    }
   ],
   "source": [
    "w[\"phymap\"][0]"
   ]
  },
  {
   "cell_type": "code",
   "execution_count": 9,
   "metadata": {},
   "outputs": [],
   "source": [
    "w.close()"
   ]
  },
  {
   "cell_type": "code",
   "execution_count": null,
   "metadata": {},
   "outputs": [],
   "source": []
  }
 ],
 "metadata": {
  "kernelspec": {
   "display_name": "Python 3",
   "language": "python",
   "name": "python3"
  },
  "language_info": {
   "codemirror_mode": {
    "name": "ipython",
    "version": 3
   },
   "file_extension": ".py",
   "mimetype": "text/x-python",
   "name": "python",
   "nbconvert_exporter": "python",
   "pygments_lexer": "ipython3",
   "version": "3.7.6"
  }
 },
 "nbformat": 4,
 "nbformat_minor": 4
}
