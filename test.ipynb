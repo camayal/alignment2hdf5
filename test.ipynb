{
 "cells": [
  {
   "cell_type": "markdown",
   "metadata": {},
   "source": [
    "# Convert multiple loci alignments into one single hdf5 file\n",
    "\n",
    "This script can convert multiple fasta files in a single folder into a hdf5 file useful for some downstream analyses in [ipyrad](https://github.com/dereneaton/ipyrad) and other software like [superBPP](https://github.com/eaton-lab/superbpp).\n",
    "\n",
    "Genes or loci must be saved in individual fasta files. They could not include all samples. For example: \n",
    "\n",
    "`gene1.fna`\n",
    "```text\n",
    ">sample_1\n",
    "ACGGCAC\n",
    ">sample_2\n",
    "ACTGCAC\n",
    ">sample_3\n",
    "ACTGCAA\n",
    "``` \n",
    "`gene2.fna`\n",
    "```text\n",
    ">sample_1\n",
    "GTAAAGTA\n",
    ">sample_2\n",
    "GTAGGGTA\n",
    "```"
   ]
  },
  {
   "cell_type": "code",
   "execution_count": 4,
   "metadata": {},
   "outputs": [],
   "source": [
    "import alignment2hdf5"
   ]
  },
  {
   "cell_type": "code",
   "execution_count": 5,
   "metadata": {},
   "outputs": [],
   "source": [
    "alignment2hdf5.multiple_fastas_to_hdf5(\"./test/genes/*.FNA\", output=\"./test/alignment.hdf5\")"
   ]
  },
  {
   "cell_type": "markdown",
   "metadata": {},
   "source": [
    "# Convert a single fasta file into a single hdf5 file\n",
    "\n",
    "This script can split a fasta file into multiple loci having the same length and convert it into a hdf5 file useful for some downstream analyses in [ipyrad](https://github.com/dereneaton/ipyrad) and other software like [superBPP](https://github.com/eaton-lab/superbpp).\n",
    "\n",
    "Fasta files can be single-lined or multi-lined (interleaved), for example:\n",
    "\n",
    "`simple.fa` \n",
    "```text\n",
    ">sample_1 single line\n",
    "ACGGCACGTAAAGTA\n",
    ">sample_2 multiline\n",
    "ACTGCACGTAG\n",
    "GGTA\n",
    "```"
   ]
  },
  {
   "cell_type": "code",
   "execution_count": 16,
   "metadata": {},
   "outputs": [],
   "source": [
    "import alignment2hdf5"
   ]
  },
  {
   "cell_type": "code",
   "execution_count": 17,
   "metadata": {},
   "outputs": [],
   "source": [
    "# Convert fasta and split each sequence in 7 loci with similar sizes\n",
    "alignment2hdf5.split_fasta_to_hdf5(\"./test/fasta.fa\", number_loci=3, output=\"./test/fasta.hdf5\")"
   ]
  },
  {
   "cell_type": "markdown",
   "metadata": {},
   "source": [
    "# Convert a single nexus file into a single hdf5 file\n",
    "\n",
    "This script can split a nexus file into multiple loci using the information in the `charpartition` block, and convert it into a hdf5 file useful for some downstream analyses in [ipyrad](https://github.com/dereneaton/ipyrad) and other software like [superBPP](https://github.com/eaton-lab/superbpp).\n",
    "\n",
    "Nexus files can be sequential or interleaved, for example:\n",
    "\n",
    "`simple.nex`\n",
    "```text\n",
    " #NEXUS\n",
    "[This is an example of nexus file]\n",
    "\n",
    "Begin data;\n",
    "    Dimensions ntax=6 nchar=48;\n",
    "    Format datatype=nucleotide gap=- missing=?;\n",
    "    Matrix\n",
    "a1    CTGATTTACATGTCAGATGTTTTTACTAGTTCCCAACAGTTTCTCATG\n",
    "a2    CTGATTTACATGTCAGATGTTTTTACTAGTTCCCAACAGTTTCTCATG\n",
    "b1    CTGATTTACATGTCAGATGTTTTTACTAGTTCCCAACAGTTTCTCATG\n",
    "b2    CTGATTTACATGTCAGATGTTTTTACTAGTTCCCAACAGTTTCTCATG\n",
    "c1    CTGATTTACATGTCAGATGTTTTTACTAGTTCCCAACAGTTTCTCATG\n",
    "c2    CTGATTTACATGTCAGATGTTTTTACTAGTTCCCAACAGTTTCTCATG\n",
    "    ;\n",
    "End;\n",
    "\n",
    "[charpartition block is requiered]\n",
    "charpartition lociset =\n",
    "1: 1-10,\n",
    "2: 11-20,\n",
    "3: 21-30,\n",
    "4: 31-40,\n",
    "5: 41-48;\n",
    "end;\n",
    "```"
   ]
  },
  {
   "cell_type": "code",
   "execution_count": 3,
   "metadata": {},
   "outputs": [],
   "source": [
    "import alignment2hdf5"
   ]
  },
  {
   "cell_type": "code",
   "execution_count": 4,
   "metadata": {},
   "outputs": [],
   "source": [
    "# Convert nexus file\n",
    "alignment2hdf5.split_fasta_to_hdf5(\"./test/nexus.nex\", number_loci=3, output=\"./test/nexus.hdf5\")"
   ]
  },
  {
   "cell_type": "markdown",
   "metadata": {},
   "source": [
    "# Verifying hdf5 structure"
   ]
  },
  {
   "cell_type": "code",
   "execution_count": 26,
   "metadata": {},
   "outputs": [],
   "source": [
    "import h5py\n",
    "w = h5py.File(\"./test/alignment.hdf5\",'r')"
   ]
  },
  {
   "cell_type": "code",
   "execution_count": 27,
   "metadata": {},
   "outputs": [
    {
     "data": {
      "text/plain": [
       "<KeysViewHDF5 ['phy', 'phymap', 'scaffold_lengths', 'scaffold_names']>"
      ]
     },
     "execution_count": 27,
     "metadata": {},
     "output_type": "execute_result"
    }
   ],
   "source": [
    "w.keys()"
   ]
  },
  {
   "cell_type": "code",
   "execution_count": 28,
   "metadata": {},
   "outputs": [
    {
     "data": {
      "text/plain": [
       "<HDF5 dataset \"phy\": shape (5, 15), type \"|u1\">"
      ]
     },
     "execution_count": 28,
     "metadata": {},
     "output_type": "execute_result"
    }
   ],
   "source": [
    "w[\"phy\"]"
   ]
  },
  {
   "cell_type": "code",
   "execution_count": 29,
   "metadata": {},
   "outputs": [
    {
     "data": {
      "text/plain": [
       "array([65, 67, 71, 71, 67, 65, 67, 71, 84, 65, 65, 65, 71, 84, 65],\n",
       "      dtype=uint8)"
      ]
     },
     "execution_count": 29,
     "metadata": {},
     "output_type": "execute_result"
    }
   ],
   "source": [
    "w[\"phy\"][0]"
   ]
  },
  {
   "cell_type": "code",
   "execution_count": 30,
   "metadata": {},
   "outputs": [
    {
     "data": {
      "text/plain": [
       "array([[ 1,  0,  7,  0,  7],\n",
       "       [ 2,  7, 15,  0, 15]])"
      ]
     },
     "execution_count": 30,
     "metadata": {},
     "output_type": "execute_result"
    }
   ],
   "source": [
    "w[\"phymap\"][:]"
   ]
  },
  {
   "cell_type": "code",
   "execution_count": 31,
   "metadata": {},
   "outputs": [
    {
     "data": {
      "text/plain": [
       "<KeysViewHDF5 ['columns', 'phynames', 'reference']>"
      ]
     },
     "execution_count": 31,
     "metadata": {},
     "output_type": "execute_result"
    }
   ],
   "source": [
    "w[\"phymap\"].attrs.keys()"
   ]
  },
  {
   "cell_type": "code",
   "execution_count": 32,
   "metadata": {},
   "outputs": [
    {
     "data": {
      "text/plain": [
       "'converted-with-alignment2hdf5'"
      ]
     },
     "execution_count": 32,
     "metadata": {},
     "output_type": "execute_result"
    }
   ],
   "source": [
    "w[\"phymap\"].attrs[\"reference\"]"
   ]
  },
  {
   "cell_type": "code",
   "execution_count": 33,
   "metadata": {},
   "outputs": [],
   "source": [
    "w.close()"
   ]
  }
 ],
 "metadata": {
  "kernelspec": {
   "display_name": "Python 3 (ipykernel)",
   "language": "python",
   "name": "python3"
  },
  "language_info": {
   "codemirror_mode": {
    "name": "ipython",
    "version": 3
   },
   "file_extension": ".py",
   "mimetype": "text/x-python",
   "name": "python",
   "nbconvert_exporter": "python",
   "pygments_lexer": "ipython3",
   "version": "3.9.7"
  }
 },
 "nbformat": 4,
 "nbformat_minor": 4
}
