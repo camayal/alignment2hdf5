{
 "cells": [
  {
   "cell_type": "markdown",
   "metadata": {},
   "source": [
    "# Convert multiple loci alignments into one single hdf5 file\n",
    "\n",
    "This script can convert multiple fasta files in a single folder into a hdf5 file useful for some downstream analyses in [ipyrad](https://github.com/dereneaton/ipyrad) and other software like [superBPP](https://github.com/eaton-lab/superbpp).\n",
    "\n",
    "Genes or loci must be saved in individual fasta files. They could not include all samples. For example: \n",
    "\n",
    "`gene1.fna`\n",
    "```text\n",
    ">sample_1\n",
    "ACGGCAC\n",
    ">sample_2\n",
    "ACTGCAC\n",
    ">sample_3\n",
    "ACTGCAA\n",
    "``` \n",
    "`gene2.fna`\n",
    "```text\n",
    ">sample_1\n",
    "GTAAAGTA\n",
    ">sample_2\n",
    "GTAGGGTA\n",
    "```"
   ]
  },
  {
   "cell_type": "code",
   "execution_count": 4,
   "metadata": {},
   "outputs": [],
   "source": [
    "import alignment2hdf5"
   ]
  },
  {
   "cell_type": "code",
   "execution_count": 5,
   "metadata": {},
   "outputs": [],
   "source": [
    "alignment2hdf5.multiple_fastas_to_hdf5(\"./test/genes/*.FNA\", output=\"./test/alignment.hdf5\")"
   ]
  },
  {
   "cell_type": "markdown",
   "metadata": {},
   "source": [
    "# Convert a single fasta file into a single hdf5 file\n",
    "\n",
    "This script can split a fasta file into multiple loci having the same length and convert it into a hdf5 file useful for some downstream analyses in [ipyrad](https://github.com/dereneaton/ipyrad) and other software like [superBPP](https://github.com/eaton-lab/superbpp).\n",
    "\n",
    "Fasta files can be single-lined or multi-lined (interleaved), for example:\n",
    "\n",
    "`simple.fa` \n",
    "```text\n",
    ">sample_1 single line\n",
    "ACGGCACGTAAAGTA\n",
    ">sample_2 multiline\n",
    "ACTGCACGTAG\n",
    "GGTA\n",
    "```"
   ]
  },
  {
   "cell_type": "code",
   "execution_count": 6,
   "metadata": {},
   "outputs": [],
   "source": [
    "import alignment2hdf5"
   ]
  },
  {
   "cell_type": "code",
   "execution_count": 8,
   "metadata": {},
   "outputs": [],
   "source": [
    "# Convert fasta and split each sequence in 7 loci with similar sizes\n",
    "alignment2hdf5.split_fasta_to_hdf5(\"./test/simple.fa\", number_loci=3, output=\"./test.simple.hdf5\")"
   ]
  },
  {
   "cell_type": "markdown",
   "metadata": {},
   "source": [
    "## Verifying hdf5 structure"
   ]
  },
  {
   "cell_type": "code",
   "execution_count": 9,
   "metadata": {},
   "outputs": [],
   "source": [
    "import h5py\n",
    "w = h5py.File(\"./test/alignment.hdf5\",'r')"
   ]
  },
  {
   "cell_type": "code",
   "execution_count": 10,
   "metadata": {},
   "outputs": [
    {
     "data": {
      "text/plain": [
       "<KeysViewHDF5 ['phy', 'phymap', 'scaffold_lengths', 'scaffold_names']>"
      ]
     },
     "execution_count": 10,
     "metadata": {},
     "output_type": "execute_result"
    }
   ],
   "source": [
    "w.keys()"
   ]
  },
  {
   "cell_type": "code",
   "execution_count": 11,
   "metadata": {},
   "outputs": [
    {
     "data": {
      "text/plain": [
       "<HDF5 dataset \"phy\": shape (5, 15), type \"|u1\">"
      ]
     },
     "execution_count": 11,
     "metadata": {},
     "output_type": "execute_result"
    }
   ],
   "source": [
    "w[\"phy\"]"
   ]
  },
  {
   "cell_type": "code",
   "execution_count": 12,
   "metadata": {},
   "outputs": [
    {
     "data": {
      "text/plain": [
       "array([[ 1,  0,  7,  0,  7],\n",
       "       [ 2,  7, 15,  0, 15]])"
      ]
     },
     "execution_count": 12,
     "metadata": {},
     "output_type": "execute_result"
    }
   ],
   "source": [
    "w[\"phymap\"][:]"
   ]
  },
  {
   "cell_type": "code",
   "execution_count": 13,
   "metadata": {},
   "outputs": [
    {
     "data": {
      "text/plain": [
       "<KeysViewHDF5 ['columns', 'phynames', 'reference']>"
      ]
     },
     "execution_count": 13,
     "metadata": {},
     "output_type": "execute_result"
    }
   ],
   "source": [
    "w[\"phymap\"].attrs.keys()"
   ]
  },
  {
   "cell_type": "code",
   "execution_count": 14,
   "metadata": {},
   "outputs": [
    {
     "data": {
      "text/plain": [
       "'converted-with-alignment2hdf5'"
      ]
     },
     "execution_count": 14,
     "metadata": {},
     "output_type": "execute_result"
    }
   ],
   "source": [
    "w[\"phymap\"].attrs[\"reference\"]"
   ]
  },
  {
   "cell_type": "code",
   "execution_count": 15,
   "metadata": {},
   "outputs": [],
   "source": [
    "w.close()"
   ]
  }
 ],
 "metadata": {
  "kernelspec": {
   "display_name": "Python 3 (ipykernel)",
   "language": "python",
   "name": "python3"
  },
  "language_info": {
   "codemirror_mode": {
    "name": "ipython",
    "version": 3
   },
   "file_extension": ".py",
   "mimetype": "text/x-python",
   "name": "python",
   "nbconvert_exporter": "python",
   "pygments_lexer": "ipython3",
   "version": "3.9.7"
  }
 },
 "nbformat": 4,
 "nbformat_minor": 4
}
